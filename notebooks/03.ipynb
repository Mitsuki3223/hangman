{
  "cells": [
    {
      "cell_type": "markdown",
      "source": [
        "# 3 初等的整列"
      ],
      "metadata": {
        "id": "9XZ0R5RLaDfm"
      },
      "id": "9XZ0R5RLaDfm"
    },
    {
      "cell_type": "markdown",
      "source": [
        "\n",
        "-   [ITP1_2_C](https://onlinejudge.u-aizu.ac.jp/courses/lesson/2/ITP1/2/ITP1_2_C) (Sorting Three Numbers)\n",
        "\n",
        "下のコードを見る前に，自分で考えてみる。"
      ],
      "metadata": {
        "id": "TxN8ixttaDfo"
      },
      "id": "TxN8ixttaDfo"
    },
    {
      "cell_type": "code",
      "execution_count": 3,
      "metadata": {
        "id": "afM5t2B2aDfo",
        "outputId": "f7c3db15-1077-42e5-d2e3-f573b3cbec30",
        "colab": {
          "base_uri": "https://localhost:8080/"
        }
      },
      "outputs": [
        {
          "output_type": "stream",
          "name": "stdout",
          "text": [
            "5 3 81 \n",
            "3 5 81\n"
          ]
        }
      ],
      "source": [
        "a, b, c = map(int, input().split())\n",
        "if b < a: a, b = b, a\n",
        "if c < a: a, c = c, a\n",
        "if c < b: b, c = c, b\n",
        "print(a, b, c)"
      ],
      "id": "afM5t2B2aDfo"
    },
    {
      "cell_type": "code",
      "execution_count": 4,
      "metadata": {
        "id": "n39gPO8WaDfp",
        "outputId": "0a21bd5b-ceae-4c90-911c-cb7630ea2603",
        "colab": {
          "base_uri": "https://localhost:8080/"
        }
      },
      "outputs": [
        {
          "output_type": "stream",
          "name": "stdout",
          "text": [
            "7 9 3\n",
            "3 7 9\n"
          ]
        }
      ],
      "source": [
        "a, b, c = map(int, input().split())\n",
        "if b < a: a, b = b, a\n",
        "if c < b:\n",
        "  if c < a: a, b, c = c, a, b\n",
        "  else: b, c = c, b\n",
        "print(a, b, c)"
      ],
      "id": "n39gPO8WaDfp"
    },
    {
      "cell_type": "code",
      "execution_count": 5,
      "metadata": {
        "id": "Ga3MhQR2aDfp",
        "outputId": "98f71614-2192-4c8d-d4a5-8e64cf3b2682",
        "colab": {
          "base_uri": "https://localhost:8080/"
        }
      },
      "outputs": [
        {
          "output_type": "stream",
          "name": "stdout",
          "text": [
            "9 6 8\n",
            "6 8 9\n"
          ]
        }
      ],
      "source": [
        "a, b, c = map(int, input().split())\n",
        "if c < b: b, c = c, b\n",
        "if b < a: a, b = b, a\n",
        "if c < b: b, c = c, b\n",
        "print(a, b, c)"
      ],
      "id": "Ga3MhQR2aDfp"
    },
    {
      "cell_type": "code",
      "execution_count": 6,
      "metadata": {
        "id": "UJfmqvvjaDfq",
        "outputId": "cdcbfd56-ab3e-4ebc-973e-90278046acfe",
        "colab": {
          "base_uri": "https://localhost:8080/"
        }
      },
      "outputs": [
        {
          "output_type": "stream",
          "name": "stdout",
          "text": [
            "8 6 4\n",
            "4 6 8\n"
          ]
        }
      ],
      "source": [
        "A = list(map(int, input().split()))\n",
        "minj = 0\n",
        "if A[1] < A[minj]: minj = 1\n",
        "if A[2] < A[minj]: minj = 2\n",
        "A[0], A[minj] = A[minj], A[0]\n",
        "minj = 1\n",
        "if A[2] < A[minj]: minj = 2\n",
        "A[1], A[minj] = A[minj], A[1]\n",
        "print(*A)"
      ],
      "id": "UJfmqvvjaDfq"
    },
    {
      "cell_type": "markdown",
      "source": [
        "♠39文字以内のコードで解決できるか？"
      ],
      "metadata": {
        "id": "IJpoX_CraDfq"
      },
      "id": "IJpoX_CraDfq"
    },
    {
      "cell_type": "code",
      "source": [],
      "metadata": {
        "id": "n-bOiA6VhSLK"
      },
      "id": "n-bOiA6VhSLK",
      "execution_count": 12,
      "outputs": []
    },
    {
      "cell_type": "markdown",
      "source": [
        "## 3.1 ソート：問題にチャレンジする前に"
      ],
      "metadata": {
        "id": "5wcsOihbaDfr"
      },
      "id": "5wcsOihbaDfr"
    },
    {
      "cell_type": "markdown",
      "source": [
        "\n",
        "ソートについて知っておくべきこと\n",
        "\n",
        "-   ライブラリの使い方（Pythonでは，メソッド`.sort`と関数`sorted`）\n",
        "-   有名なアルゴリズム（簡単なものでは，挿入ソート，バブルソート，選択ソート，シェルソート。第7章に続く）\n",
        "-   有名なアルゴリズムの計算量（最悪の場合，挿入ソート，バブルソート，選択ソートは $O(n^2)$，シェルソートは $O(n^{1.25})$ 程度。第7章に続く）\n",
        "-   安定性（同じ値のデータの順序を保つかどうか）\n",
        "\n",
        "Pythonでのソートの基本"
      ],
      "metadata": {
        "id": "BocEmwwLaDfr"
      },
      "id": "BocEmwwLaDfr"
    },
    {
      "cell_type": "code",
      "execution_count": 11,
      "metadata": {
        "id": "ZNmriLLyaDfr",
        "outputId": "50f059a4-dc74-4760-f140-d340c364cbd3",
        "colab": {
          "base_uri": "https://localhost:8080/"
        }
      },
      "outputs": [
        {
          "output_type": "stream",
          "name": "stdout",
          "text": [
            "[1, 1, 2, 3, 3, 4, 5, 5, 6, 9]\n"
          ]
        }
      ],
      "source": [
        "A = [3, 1, 4, 1, 5, 9, 2, 6, 5, 3]\n",
        "A.sort()\n",
        "print(A) # A自体が並べ替えられる"
      ],
      "id": "ZNmriLLyaDfr"
    },
    {
      "cell_type": "code",
      "execution_count": 12,
      "metadata": {
        "id": "b-EJ02ARaDfs",
        "outputId": "47fe1d29-7ebc-44e8-8d34-12f96b9d1115",
        "colab": {
          "base_uri": "https://localhost:8080/"
        }
      },
      "outputs": [
        {
          "output_type": "stream",
          "name": "stdout",
          "text": [
            "[1, 1, 2, 3, 3, 4, 5, 5, 6, 9]\n",
            "[3, 1, 4, 1, 5, 9, 2, 6, 5, 3]\n"
          ]
        }
      ],
      "source": [
        "A = [3, 1, 4, 1, 5, 9, 2, 6, 5, 3]\n",
        "B = sorted(A)\n",
        "print(B)\n",
        "print(A) # Aはそのまま"
      ],
      "id": "b-EJ02ARaDfs"
    },
    {
      "cell_type": "markdown",
      "source": [
        "いずれにしても，ソートは簡単に実現できる。ではなぜソートについて学ぶのか。\n",
        "\n",
        "> プログラミングのほぼ**すべて**の重要な側面がソートや探索の文脈中のどこかに現れているはずだ。（TAOCP Vol. 3「序」）"
      ],
      "metadata": {
        "id": "YToT4dkJaDfs"
      },
      "id": "YToT4dkJaDfs"
    },
    {
      "cell_type": "markdown",
      "source": [
        "### 安定性"
      ],
      "metadata": {
        "id": "MIGn_bV1aDfs"
      },
      "id": "MIGn_bV1aDfs"
    },
    {
      "cell_type": "markdown",
      "source": [
        "\n",
        "安定なソート。教科書p.52のデータを一部変えて試す。♠表形式のデータは**データフレーム**という形式で扱うことが多いが，ここでは多次元リストで表現する（後期「データサイエンス演習」）。"
      ],
      "metadata": {
        "id": "VR2XsSKyaDfs"
      },
      "id": "VR2XsSKyaDfs"
    },
    {
      "cell_type": "code",
      "execution_count": 13,
      "metadata": {
        "id": "4J94luQMaDfs",
        "outputId": "1905d4ab-9ba7-4086-8dbe-6fa71e61ed75",
        "colab": {
          "base_uri": "https://localhost:8080/"
        }
      },
      "outputs": [
        {
          "output_type": "execute_result",
          "data": {
            "text/plain": [
              "[['player3', 95, 60],\n",
              " ['player1', 70, 80],\n",
              " ['player2', 90, 80],\n",
              " ['player4', 80, 95]]"
            ]
          },
          "metadata": {},
          "execution_count": 13
        }
      ],
      "source": [
        "data = [[\"player1\", 70, 80],\n",
        "        [\"player2\", 90, 80],\n",
        "        [\"player3\", 95, 60],\n",
        "        [\"player4\", 80, 95]]\n",
        "\n",
        "sorted(data, key=lambda x: x[2])"
      ],
      "id": "4J94luQMaDfs"
    },
    {
      "cell_type": "markdown",
      "source": [
        "安定でないソート（3.4節 選択ソート）\n",
        "\n",
        "> データをコピーしてから，第3要素で選択ソートでソートする。<br>\n",
        "> （ここにdataを貼り付ける。）\n",
        "\n",
        "生成されるコードを修正した例を示す。"
      ],
      "metadata": {
        "id": "lKnWkCDqaDfs"
      },
      "id": "lKnWkCDqaDfs"
    },
    {
      "cell_type": "code",
      "execution_count": 14,
      "metadata": {
        "id": "osnnln44aDft",
        "outputId": "fa6a68b5-35d0-4128-8b75-d28195c94ae3",
        "colab": {
          "base_uri": "https://localhost:8080/"
        }
      },
      "outputs": [
        {
          "output_type": "stream",
          "name": "stdout",
          "text": [
            "Writing unstable_sort.py\n"
          ]
        }
      ],
      "source": [
        "%%writefile unstable_sort.py\n",
        "data = [[\"player1\", 70, 80],\n",
        "        [\"player2\", 90, 80],\n",
        "        [\"player3\", 95, 60],\n",
        "        [\"player4\", 80, 95]]\n",
        "\n",
        "import copy\n",
        "\n",
        "# データをコピー\n",
        "sorted_data = copy.deepcopy(data)\n",
        "\n",
        "# 選択ソートの実装（第3要素でソート）\n",
        "n = len(sorted_data)\n",
        "for i in range(n - 1):\n",
        "    min_index = i\n",
        "    for j in range(i + 1, n):\n",
        "        if sorted_data[j][2] < sorted_data[min_index][2]:  # 第3要素（インデックス2）で比較\n",
        "            min_index = j\n",
        "    # 最小値の要素を交換\n",
        "    sorted_data[i], sorted_data[min_index] = sorted_data[min_index], sorted_data[i]\n",
        "\n",
        "sorted_data"
      ],
      "id": "osnnln44aDft"
    },
    {
      "cell_type": "markdown",
      "source": [
        "### in-place性"
      ],
      "metadata": {
        "id": "T9_szxpTaDft"
      },
      "id": "T9_szxpTaDft"
    },
    {
      "cell_type": "markdown",
      "source": [
        "\n",
        "元のデータを書き替えるものをin-placeという。\n",
        "\n",
        "-   メソッド`sort`はin-placeである。元のリストを並べ替える。\n",
        "-   関数`sorted`：はin-placeではない。元のリストはそのままで，新しいリストを作る。"
      ],
      "metadata": {
        "id": "j8qgl_JFaDfu"
      },
      "id": "j8qgl_JFaDfu"
    },
    {
      "cell_type": "code",
      "execution_count": 15,
      "metadata": {
        "id": "usG3ZXnFaDfu",
        "outputId": "584d6bbd-315c-4fc2-b4c9-0f0c26db6767",
        "colab": {
          "base_uri": "https://localhost:8080/"
        }
      },
      "outputs": [
        {
          "output_type": "stream",
          "name": "stdout",
          "text": [
            "[1, 1, 2, 3, 3, 4, 5, 5, 6, 9]\n"
          ]
        }
      ],
      "source": [
        "A = [3, 1, 4, 1, 5, 9, 2, 6, 5, 3]\n",
        "A.sort()\n",
        "print(A) # A自体が並べ替えられる"
      ],
      "id": "usG3ZXnFaDfu"
    },
    {
      "cell_type": "code",
      "execution_count": 16,
      "metadata": {
        "id": "QSjGjom9aDfu",
        "outputId": "b305f084-5f14-4f3a-aae3-e83459765ec9",
        "colab": {
          "base_uri": "https://localhost:8080/"
        }
      },
      "outputs": [
        {
          "output_type": "stream",
          "name": "stdout",
          "text": [
            "[1, 1, 2, 3, 3, 4, 5, 5, 6, 9]\n",
            "[3, 1, 4, 1, 5, 9, 2, 6, 5, 3]\n"
          ]
        }
      ],
      "source": [
        "A = [3, 1, 4, 1, 5, 9, 2, 6, 5, 3]\n",
        "B = sorted(A) # Aを並べ替えて新しいリストBを作る。\n",
        "print(B)\n",
        "print(A) # Aはそのまま"
      ],
      "id": "QSjGjom9aDfu"
    },
    {
      "cell_type": "markdown",
      "source": [
        "## ナイーブなソート"
      ],
      "metadata": {
        "id": "gUeKy1whaDfu"
      },
      "id": "gUeKy1whaDfu"
    },
    {
      "cell_type": "code",
      "execution_count": 17,
      "metadata": {
        "id": "HVKE15ztaDfu"
      },
      "outputs": [],
      "source": [
        "def simple_sort(A):\n",
        "  n = len(A)\n",
        "  for i in range(n - 1):\n",
        "    for j in range(i + 1, n):\n",
        "      if A[i] > A[j]:\n",
        "        A[i], A[j] = A[j], A[i]"
      ],
      "id": "HVKE15ztaDfu"
    },
    {
      "cell_type": "markdown",
      "source": [
        "このアルゴリズムについて，二つの点を考える。\n",
        "\n",
        "-   正当性：アルゴリズムは正しいのか？\n",
        "-   アルゴリズム解析：アルゴリズムは速いのか？"
      ],
      "metadata": {
        "id": "FZNubN4XaDfu"
      },
      "id": "FZNubN4XaDfu"
    },
    {
      "cell_type": "markdown",
      "source": [
        "### 正当性"
      ],
      "metadata": {
        "id": "qWOf-VL1aDfu"
      },
      "id": "qWOf-VL1aDfu"
    },
    {
      "cell_type": "markdown",
      "source": [
        "\n",
        "アルゴリズムの正しさをどう納得するか。\n",
        "\n",
        "-   テスト（確実ではないが，比較的簡単）\n",
        "-   ♠証明（確実だが，比較的難しい）"
      ],
      "metadata": {
        "id": "hnFp84GuaDfu"
      },
      "id": "hnFp84GuaDfu"
    },
    {
      "cell_type": "markdown",
      "source": [
        "#### テスト"
      ],
      "metadata": {
        "id": "6j_Bi9keaDfu"
      },
      "id": "6j_Bi9keaDfu"
    },
    {
      "cell_type": "markdown",
      "source": [
        "\n",
        "これでソートできることを確認する。"
      ],
      "metadata": {
        "id": "HJL2UVjVaDfv"
      },
      "id": "HJL2UVjVaDfv"
    },
    {
      "cell_type": "code",
      "execution_count": 19,
      "metadata": {
        "id": "k-pxU2sgaDfv"
      },
      "outputs": [],
      "source": [
        "A = [10, 20, 55, 4, 15, 12]\n",
        "simple_sort(A)\n",
        "\n",
        "for i in range(len(A) - 1):\n",
        "  if A[i] > A[i + 1]:\n",
        "    print(\"Error\")"
      ],
      "id": "k-pxU2sgaDfv"
    },
    {
      "cell_type": "markdown",
      "source": [
        "テストにパスしたのは，たまたま正しい結果が出るデータを入力したからかもしれないことに注意。"
      ],
      "metadata": {
        "id": "FMGxjZQiaDfv"
      },
      "id": "FMGxjZQiaDfv"
    },
    {
      "cell_type": "markdown",
      "source": [
        "#### ♠証明"
      ],
      "metadata": {
        "id": "VbaRq6DXaDfv"
      },
      "id": "VbaRq6DXaDfv"
    },
    {
      "cell_type": "markdown",
      "source": [
        "\n",
        "証明方法：ループ不変条件（ループの前後で常に成り立つ条件）を数学的帰納法で証明する。\n",
        "\n",
        "`simple_sort`のループ不変条件：外側の $i$ のループの開始時点で，$A[0]<\\ldots<A[i-1]$，かつ，$A[i-1], \\ldots, A[n-1]$ では $A[i-1]$ が最小である。\n",
        "\n",
        "この条件が常に成立することを数学的帰納法で証明すればよい。\n",
        "\n",
        "AIが証明してくれるかもしれないが，それっぽいでたらめを出してくる危険もある。\n",
        "\n",
        "> このソートの正当性をループ不変条件を設定して証明して<br/>\n",
        "> （ここに関数を貼り付ける。）"
      ],
      "metadata": {
        "id": "ucTFXl4KaDfv"
      },
      "id": "ucTFXl4KaDfv"
    },
    {
      "cell_type": "markdown",
      "source": [
        "### アルゴリズム解析"
      ],
      "metadata": {
        "id": "zZHGM-KlaDfv"
      },
      "id": "zZHGM-KlaDfv"
    },
    {
      "cell_type": "markdown",
      "source": [
        "\n",
        "アルゴリズムの性能をどう調査するか。\n",
        "\n",
        "-   時間計算量\n",
        "-   空間計算量\n",
        "\n",
        "ここでは時間計算量を調べる。\n",
        "\n",
        "| 行  | 命令                      | コスト | RAMモデルでのおおよその実行回数                       |\n",
        "|------------------|------------------|------------------|------------------|\n",
        "| 1   | `n = len(A)`              | $c_1$  | $1$                                                   |\n",
        "| 2   | `for i in range(n-1):`    | $c_2$  | $n-1$                                                 |\n",
        "| 3   | `for j in range(i, n):`   | $c_3$  | $\\displaystyle\\sum_{i=0}^{n-2}(n-i)=\\frac{(n-1)n}{2}$ |\n",
        "| 4   | `if A[i] > A[j]:`         | $c_4$  | $\\displaystyle\\sum_{i=0}^{n-2}(n-i)=\\frac{(n-1)n}{2}$ |\n",
        "| 5   | `A[i], A[j] = A[j], A[i]` | $c_5$  | $\\displaystyle\\sum_{i=0}^{n-2}t_i$                    |\n",
        "\n",
        "最良（実行時間が最短）なのは，対象のデータが昇順にソートされている場合で，5行目は1回も実行されない。よって，実行時間は $c_1+c_2(n-1)+(c_3+c_4)\\frac{(n-1)n}{2}=O(n^2)$ である。\n",
        "\n",
        "最悪（実行時間が最長）なのは，対象のデータが降順にソートされている場合で，$t_i=n-i$ だから，5行目は $\\sum_{i=0}^{n-2}(n-i)=\\frac{(n-1)n}{2}$ 回実行される。よって，実行時間は $c_1+c_2(n-1)+(c_3+c_4+c_5)\\frac{(n-1)n}{2}=O(n^2)$ である。\n",
        "\n",
        "結局，このナイーブなソートの計算量は $O(n^2)$ である（$\\Theta(n^2)$ でもある）。"
      ],
      "metadata": {
        "id": "ntpvir9eaDfv"
      },
      "id": "ntpvir9eaDfv"
    },
    {
      "cell_type": "markdown",
      "source": [
        "## 3.2 挿入ソート"
      ],
      "metadata": {
        "id": "QnwEQOoOaDfv"
      },
      "id": "QnwEQOoOaDfv"
    },
    {
      "cell_type": "markdown",
      "source": [
        "\n",
        "アルゴリズム図鑑（無料版）\n",
        "\n",
        "問題：[ALDS1_1_A](https://onlinejudge.u-aizu.ac.jp/courses/lesson/1/ALDS1/1/ALDS1_1_A) (Insertion Sort)\n",
        "\n",
        "♠「挿入ソートはある程度整列されたデータに対しては高速に動作する特長を持ちます（教科書p.58）」を確かめる。\n",
        "\n",
        "♠正当性：CLRS 2.1節を参照。\n",
        "\n",
        "時間計算量：最良の場合の時間計算量は $O(n)$，最悪の場合の時間計算量は $O(n^2)$ である（参照：教科書p.58，CLRS 2.2節）。"
      ],
      "metadata": {
        "id": "kZiz2pK6aDfv"
      },
      "id": "kZiz2pK6aDfv"
    },
    {
      "cell_type": "code",
      "source": [
        "%%writefile input.\n"
      ],
      "metadata": {
        "id": "lHvMQIJTsX0B"
      },
      "id": "lHvMQIJTsX0B",
      "execution_count": null,
      "outputs": []
    },
    {
      "cell_type": "code",
      "source": [
        "%%writefile test.py\n",
        "def insertionSort(A, N) #N個の要素を含む0-オリジンの配列A\n",
        "  for i in range(1,N)\n",
        "    print(*A)\n",
        "    v = A[i]\n",
        "    j = i - 1\n",
        "    while j >= 0 and A[j] > v\n",
        "      A[j+1] = A[j]\n",
        "      j--\n",
        "    A[j+1] = v\n",
        "N=int(input())\n",
        "A=list(map(int,input().split()))\n",
        "\n",
        "insertionSort(A, N)\n",
        "print(*A)"
      ],
      "metadata": {
        "id": "xFnyjSFUrRKq",
        "outputId": "0097cadf-e6da-4e4e-ae4e-ce5fc721b1d3",
        "colab": {
          "base_uri": "https://localhost:8080/"
        }
      },
      "id": "xFnyjSFUrRKq",
      "execution_count": 20,
      "outputs": [
        {
          "output_type": "stream",
          "name": "stdout",
          "text": [
            "Writing test.py\n"
          ]
        }
      ]
    },
    {
      "cell_type": "markdown",
      "source": [
        "## 3.3 バブルソート"
      ],
      "metadata": {
        "id": "vCnIc0SkaDfw"
      },
      "id": "vCnIc0SkaDfw"
    },
    {
      "cell_type": "markdown",
      "source": [
        "\n",
        "<iframe width=\"560\" height=\"315\" src=\"https://www.youtube.com/embed/k4RRi_ntQc8?si=1FCkVkdsA6ktzjP8&amp;start=34\" title=\"YouTube video player\" frameborder=\"0\" allow=\"accelerometer; autoplay; clipboard-write; encrypted-media; gyroscope; picture-in-picture; web-share\" referrerpolicy=\"strict-origin-when-cross-origin\" allowfullscreen>\n",
        "</iframe>\n",
        "\n",
        "参照：[Obama on sorting 1M integers: Bubble sort the wrong way to go](https://www.righto.com/2012/11/obama-on-sorting-1m-integers-bubble.html)\n",
        "\n",
        "アルゴリズム図鑑（無料版）\n",
        "\n",
        "問題：[ALDS1_2_A](https://onlinejudge.u-aizu.ac.jp/courses/lesson/1/ALDS1/2/ALDS1_2_A) (Bubble Sort)\n",
        "\n",
        "♠`flag`の効果を調べる。\n",
        "\n",
        "♠7.3節で扱うクイックソートとバブルソートの性能を比較してみよう。クイックソートは速いと言うが，データが少ない場合は，あまり変わらない。\n",
        "\n",
        "> Pythonでバブルソートとクイックソートを実装して性能を比較する。「サイズnのランダムなリストのソートを1000回ずつ実行する」のにかかる時間を計る。nは5, 10, 15, …, 50とする。正しくソートできているかどうかを，sorted()を使って確認するようにして。\n",
        "\n",
        "生成されるコードを修正した例を示す。"
      ],
      "metadata": {
        "id": "iGfkpgmraDfw"
      },
      "id": "iGfkpgmraDfw"
    },
    {
      "cell_type": "code",
      "execution_count": 21,
      "metadata": {
        "id": "ZRLqyMCKaDfw",
        "outputId": "cc8d7d0f-ec36-4701-9af5-a2256d6d9023",
        "colab": {
          "base_uri": "https://localhost:8080/",
          "height": 819
        }
      },
      "outputs": [
        {
          "output_type": "stream",
          "name": "stdout",
          "text": [
            "Measuring for n=5...\n",
            "Measuring for n=10...\n",
            "Measuring for n=15...\n",
            "Measuring for n=20...\n",
            "Measuring for n=25...\n",
            "Measuring for n=30...\n",
            "Measuring for n=35...\n",
            "Measuring for n=40...\n",
            "Measuring for n=45...\n",
            "Measuring for n=50...\n",
            "Measuring for n=55...\n",
            "Measuring for n=60...\n",
            "Measuring for n=65...\n",
            "Measuring for n=70...\n",
            "Measuring for n=75...\n",
            "Measuring for n=80...\n",
            "Measuring for n=85...\n",
            "Measuring for n=90...\n",
            "Measuring for n=95...\n",
            "Measuring for n=100...\n"
          ]
        },
        {
          "output_type": "display_data",
          "data": {
            "text/plain": [
              "<Figure size 640x480 with 1 Axes>"
            ],
            "image/png": "[encoded data removed]"
          },
          "metadata": {}
        }
      ],
      "source": [
        "import time\n",
        "import random\n",
        "import matplotlib.pyplot as plt\n",
        "\n",
        "def bubble_sort(arr):\n",
        "    n = len(arr)\n",
        "    flag = True\n",
        "    while flag:\n",
        "        flag = False\n",
        "        for j in range(n-1, 0, -1):\n",
        "            if arr[j] < arr[j-1]:\n",
        "                arr[j], arr[j-1] = arr[j-1], arr[j]\n",
        "                flag = True\n",
        "    return arr\n",
        "\n",
        "def quick_sort(arr):\n",
        "    if len(arr) <= 1:\n",
        "        return arr\n",
        "    pivot = arr[len(arr) // 2]\n",
        "    left = [x for x in arr if x < pivot]\n",
        "    middle = [x for x in arr if x == pivot]\n",
        "    right = [x for x in arr if x > pivot]\n",
        "    return quick_sort(left) + middle + quick_sort(right)\n",
        "\n",
        "def measure_time(sort_func, n, iterations=1000):\n",
        "    total_time = 0\n",
        "    for _ in range(iterations):\n",
        "        arr = [random.randint(0, 1000) for _ in range(n)]\n",
        "        arr_copy = arr.copy()\n",
        "        start_time = time.time()\n",
        "        arr = sort_func(arr)\n",
        "        if arr != sorted(arr_copy):\n",
        "            raise ValueError(\"Sorting failed\")\n",
        "        total_time += time.time() - start_time\n",
        "    return total_time\n",
        "\n",
        "sizes = list(range(5, 101, 5))\n",
        "algorithm1_times = []\n",
        "algorithm2_times = []\n",
        "\n",
        "for n in sizes:\n",
        "    print(f\"Measuring for n={n}...\")\n",
        "    algorithm1_times.append(measure_time(bubble_sort, n))\n",
        "    algorithm2_times.append(measure_time(quick_sort, n))\n",
        "\n",
        "plt.plot(sizes, algorithm1_times, label='algorithm 1')\n",
        "plt.plot(sizes, algorithm2_times, label='algorithm 2')\n",
        "plt.xlabel('List Size (n)')\n",
        "plt.ylabel('Total Time (seconds)')\n",
        "plt.title('Performance Comparison')\n",
        "plt.legend()\n",
        "plt.show()"
      ],
      "id": "ZRLqyMCKaDfw"
    },
    {
      "cell_type": "markdown",
      "source": [
        "## 3.4 選択ソート"
      ],
      "metadata": {
        "id": "rFx9KXDBaDf8"
      },
      "id": "rFx9KXDBaDf8"
    },
    {
      "cell_type": "markdown",
      "source": [
        "\n",
        "アルゴリズム図鑑（無料版）\n",
        "\n",
        "教科書p.65の擬似コードは次のように修正してよい。\n",
        "\n",
        "    1 selectionSort(A, N) // N個の要素を含む0-オリジンの配列A\n",
        "    2   for i が 0 から N-2 まで\n",
        "    3     minj = i\n",
        "    4     for j が i+1 から N-1 まで\n",
        "    5       if A[j] < A[minj]\n",
        "    6         minj = j\n",
        "    7     A[i] と A[minj] を交換\n",
        "\n",
        "問題：[ALDS1_2_B](https://onlinejudge.u-aizu.ac.jp/courses/lesson/1/ALDS1/2/ALDS1_2_B) (Selection Sort)\n",
        "\n",
        "♠「flagを用いない単純なバブルソートと選択ソートは，データに依存しない比較演算を行いますが，挿入ソートはデータに依存する挙動をし，高速になる場合があります。（教科書p.68）」\n",
        "\n",
        "正当性と時間計算量：時間計算量は$O(n^2)$（$\\Theta(n^2)$ でもある）。CLRSの練習問題 2.2-2を参照。"
      ],
      "metadata": {
        "id": "xL1Zb_ekaDf9"
      },
      "id": "xL1Zb_ekaDf9"
    },
    {
      "cell_type": "markdown",
      "source": [
        "## ♠3.5 安定なソート"
      ],
      "metadata": {
        "id": "0S5hcD4BaDf9"
      },
      "id": "0S5hcD4BaDf9"
    },
    {
      "cell_type": "markdown",
      "source": [
        "\n",
        "問題：[ALDS1_2_C](https://onlinejudge.u-aizu.ac.jp/courses/lesson/1/ALDS1/2/ALDS1_2_C) (Stable Sort)\n",
        "\n",
        "valueはrankというのが一般的かもしれないが・・・\n",
        "\n",
        "> suitとvalueを持つクラスCardをPythonで作る。インスタンスは長さ2の文字列で初期化する。1文字目がsuit，2文字目を整数に変換した結果がvalueである。例えばCard(“H4”)は，suitがH，valueが4のインスタンスである。"
      ],
      "metadata": {
        "id": "fLFHCHwCaDf9"
      },
      "id": "fLFHCHwCaDf9"
    },
    {
      "cell_type": "code",
      "execution_count": null,
      "metadata": {
        "id": "yRmOdytLaDf9"
      },
      "outputs": [],
      "source": [
        "%%writefile card.py\n",
        "class Card:\n",
        "    def __init__(self, s):\n",
        "        self.suit = s[0]\n",
        "        self.value = int(s[1])\n",
        "\n",
        "    def __repr__(self):\n",
        "        return self.suit + str(self.value)"
      ],
      "id": "yRmOdytLaDf9"
    },
    {
      "cell_type": "markdown",
      "source": [
        "## ♠3.6 シェルソート"
      ],
      "metadata": {
        "id": "46eyl8WLaDf9"
      },
      "id": "46eyl8WLaDf9"
    },
    {
      "cell_type": "markdown",
      "source": [
        "\n",
        "Donald L. Shellが1959年に提案したソートアルゴリズムである。\n",
        "\n",
        "問題：[ALDS1_2_D](https://onlinejudge.u-aizu.ac.jp/courses/lesson/1/ALDS1/2/ALDS1_2_D) (Shell Sort)\n",
        "\n",
        "ヒント：教科書p.77のgを使えばよい。TAOCP 5.2.1項によると，$$g_0=1,\\;g_{i+1}=3g_i+1\\;\\text{とし，}g_{t+1}>N\\;\\text{になったら，}g_{t-1}\\;\\text{で終わりにする。}$$gがnより大きくなってもプログラムは動くが，オンラインジャッジは通らない。\n",
        "\n",
        "前に扱った挿入ソート（教科書p.54）と，ここで使う挿入ソート（同p.74）を比較する。\n",
        "\n",
        "    1 insertionSort(A, N) // N個の要素を含む0-オリジンの配列A\n",
        "    2   for i が 1 から N-1 まで\n",
        "    3     v = A[i]\n",
        "    4     j = i - 1\n",
        "    5     while j >= 0 かつ A[j] > v\n",
        "    6       A[j+1] = A[j]\n",
        "    7       j--\n",
        "    8     A[j+1] = v\n",
        "\n",
        "    1 insertionSort(A, n, g)\n",
        "    2     for i = g to n-1\n",
        "    3         v = A[i]\n",
        "    4         j = i - g\n",
        "    5         while j >= 0 && A[j] > v\n",
        "    6             A[j+g] = A[j]\n",
        "    7             j = j - g\n",
        "    8             cnt++\n",
        "    9         A[j+g] = v\n",
        "\n",
        "**練習**：どのような違いがあるか，まとめてみよう。\n",
        "\n",
        "-   `cnt`で値の交換回数を数えている。♠教科書p.74の擬似コードを最小限の変更で実装しようとすると，`cnt`はグローバル変数になる。グローバル変数はあまり使いたくないのだが，ここではそれでよい。\n",
        "-   （自分で考える）\n",
        "\n",
        "♠バブルソートとクイックソートを比べる先の実験と同じようにして，シェルソートとクイックソートを比べてみよう。"
      ],
      "metadata": {
        "id": "w2mGqLBCaDf9"
      },
      "id": "w2mGqLBCaDf9"
    },
    {
      "cell_type": "markdown",
      "source": [
        "## ♠おまけ"
      ],
      "metadata": {
        "id": "Tfld5iNLaDf-"
      },
      "id": "Tfld5iNLaDf-"
    },
    {
      "cell_type": "markdown",
      "source": [
        "\n",
        "要素数100くらいで使う場合，次のソートは，挿入ソートより遅いが，バブルソートより速いことを確かめてみよう。\n",
        "\n",
        "    def fung_sort(A):\n",
        "      n = len(A)\n",
        "      for i in range(n):\n",
        "        for j in range(n):\n",
        "          if A[i] < A[j]:\n",
        "            A[i], A[j] = A[j], A[i]\n",
        "\n",
        "出典：[Stanley P. Y. Fung. Is this the simplest (and most surprising) sorting algorithm ever?](https://arxiv.org/abs/2110.01111)\n",
        "\n",
        "参照：https://github.com/E869120/math-algorithm-book/blob/main/editorial/chap3-6/chap3-6.pdf"
      ],
      "metadata": {
        "id": "-rSoY3NiaDf-"
      },
      "id": "-rSoY3NiaDf-"
    },
    {
      "cell_type": "markdown",
      "source": [
        "## 宿題"
      ],
      "metadata": {
        "id": "dGQMKdtoaDf-"
      },
      "id": "dGQMKdtoaDf-"
    },
    {
      "cell_type": "markdown",
      "source": [
        "\n",
        "以下の問題をAC（Accepted）にする。Pythonを使うこと。\n",
        "\n",
        "-   [ITP1_2_C](https://onlinejudge.u-aizu.ac.jp/courses/lesson/2/ITP1/2/ITP1_2_C) (Sorting Three Numbers)\n",
        "-   [ALDS1_1_A](https://onlinejudge.u-aizu.ac.jp/courses/lesson/1/ALDS1/1/ALDS1_1_A) (Insertion Sort)\n",
        "-   [ALDS1_2_A](https://onlinejudge.u-aizu.ac.jp/courses/lesson/1/ALDS1/2/ALDS1_2_A) (Bubble Sort)\n",
        "-   [ALDS1_2_B](https://onlinejudge.u-aizu.ac.jp/courses/lesson/1/ALDS1/2/ALDS1_2_B) (Selection Sort)\n",
        "-   ♠[ALDS1_2_C](https://onlinejudge.u-aizu.ac.jp/courses/lesson/1/ALDS1/2/ALDS1_2_C) (Stable Sort)\n",
        "-   ♠[ALDS1_2_D](https://onlinejudge.u-aizu.ac.jp/courses/lesson/1/ALDS1/2/ALDS1_2_D) (Shell Sort)\n",
        "\n",
        "以上"
      ],
      "metadata": {
        "id": "JbcdKuYVaDf-"
      },
      "id": "JbcdKuYVaDf-"
    }
  ],
  "nbformat": 4,
  "nbformat_minor": 5,
  "metadata": {
    "colab": {
      "provenance": []
    },
    "language_info": {
      "name": "python"
    },
    "kernelspec": {
      "name": "python3",
      "display_name": "Python 3"
    }
  }
}